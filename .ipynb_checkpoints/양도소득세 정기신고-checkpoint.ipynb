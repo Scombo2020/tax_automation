{
 "cells": [
  {
   "cell_type": "code",
   "execution_count": 1,
   "id": "7b3327d6-6491-411e-a0b6-854e54a8b1d7",
   "metadata": {},
   "outputs": [],
   "source": [
    "from selenium import webdriver\n",
    "from selenium.webdriver.common.by import By\n",
    "from selenium.webdriver.common.keys import Keys\n",
    "from selenium.webdriver.support import expected_conditions as EC\n",
    "from selenium.webdriver.support.ui import WebDriverWait\n",
    "import time"
   ]
  },
  {
   "cell_type": "code",
   "execution_count": 2,
   "id": "69d62d88-a885-4ccb-803f-6aaad7d817e6",
   "metadata": {},
   "outputs": [],
   "source": [
    "driver = webdriver.Chrome()"
   ]
  },
  {
   "cell_type": "code",
   "execution_count": 3,
   "id": "090cabc3-e847-4fe0-a99b-07bb4dbfe04f",
   "metadata": {},
   "outputs": [],
   "source": [
    "driver.get('https://www.hometax.go.kr/')"
   ]
  },
  {
   "cell_type": "code",
   "execution_count": 4,
   "id": "a9c66acf-1423-4da2-8754-62895cb456c6",
   "metadata": {},
   "outputs": [],
   "source": [
    "ID = 'wlsry96a'\n",
    "PW = 'shiny1751!'"
   ]
  },
  {
   "cell_type": "code",
   "execution_count": 5,
   "id": "1f4297c2-8c3b-4fc2-bae7-087c62820b05",
   "metadata": {},
   "outputs": [
    {
     "name": "stdout",
     "output_type": "stream",
     "text": [
      "clicked!\n"
     ]
    }
   ],
   "source": [
    "# click 로그인\n",
    "time.sleep(10)\n",
    "\n",
    "try:\n",
    "    element = WebDriverWait(driver, 10).until(EC.element_to_be_clickable((By.ID, 'group88615548')))\n",
    "    element.send_keys(Keys.ENTER) \n",
    "except Exception as e:\n",
    "    print(\"error: \", e)\n",
    "    \n",
    "print(\"clicked!\")"
   ]
  },
  {
   "cell_type": "code",
   "execution_count": 6,
   "id": "69aa220e-7a69-42eb-bdcc-e825b512f57f",
   "metadata": {},
   "outputs": [
    {
     "name": "stdout",
     "output_type": "stream",
     "text": [
      "clicked!\n"
     ]
    }
   ],
   "source": [
    "# move to login tab with ID & PW, login.\n",
    "time.sleep(10)\n",
    "\n",
    "driver.switch_to.frame('txppIframe')\n",
    "\n",
    "element = driver.find_element(By.ID, 'anchor15')\n",
    "element.send_keys(Keys.ENTER) \n",
    "print(\"clicked!\")\n",
    "\n",
    "input_id = driver.find_element(By.ID, 'iptUserId')\n",
    "input_id.send_keys(ID)\n",
    "input_pw = driver.find_element(By.ID, 'iptUserPw')\n",
    "input_pw.send_keys(PW)\n",
    "element = driver.find_element(By.ID, 'anchor25')\n",
    "element.send_keys(Keys.ENTER)"
   ]
  },
  {
   "cell_type": "code",
   "execution_count": 7,
   "id": "950fbb58-1ab5-476b-b02f-4c25b3f1cff2",
   "metadata": {},
   "outputs": [],
   "source": [
    "# move to 신고/납부\n",
    "time.sleep(10)\n",
    "\n",
    "try:\n",
    "    element = WebDriverWait(driver, 10).until(EC.element_to_be_clickable((By.ID, 'group1314')))\n",
    "    element.send_keys(Keys.ENTER) \n",
    "except Exception as e:\n",
    "    print(\"error: \", e)"
   ]
  },
  {
   "cell_type": "code",
   "execution_count": 8,
   "id": "83b675bf-255a-4819-8146-4562239ea259",
   "metadata": {},
   "outputs": [],
   "source": [
    "# move to 양도 소득세\n",
    "time.sleep(10)\n",
    "\n",
    "driver.switch_to.frame('txppIframe')\n",
    "element = driver.find_element(By.ID, 'sub_a_0405050000')\n",
    "element.send_keys(Keys.ENTER) "
   ]
  },
  {
   "cell_type": "code",
   "execution_count": 9,
   "id": "c304e962-ca03-4b92-ac2a-9623e114acaf",
   "metadata": {},
   "outputs": [],
   "source": [
    "# move to 확정신고 -> 정기신고\n",
    "# 현재 신고기간 아님, 더 이상 진행 불가.\n",
    "time.sleep(10)\n",
    "\n",
    "try:\n",
    "    element = WebDriverWait(driver, 10).until(EC.element_to_be_clickable((By.ID, 'group14460')))\n",
    "    element.send_keys(Keys.ENTER) \n",
    "except Exception as e:\n",
    "    print(\"error: \", e)\n",
    "    \n",
    "try:\n",
    "    element = WebDriverWait(driver, 10).until(EC.element_to_be_clickable((By.ID, 'group255370')))\n",
    "    element.send_keys(Keys.ENTER) \n",
    "except Exception as e:\n",
    "    print(\"error: \", e)"
   ]
  }
 ],
 "metadata": {
  "kernelspec": {
   "display_name": "Python 3 (ipykernel)",
   "language": "python",
   "name": "python3"
  },
  "language_info": {
   "codemirror_mode": {
    "name": "ipython",
    "version": 3
   },
   "file_extension": ".py",
   "mimetype": "text/x-python",
   "name": "python",
   "nbconvert_exporter": "python",
   "pygments_lexer": "ipython3",
   "version": "3.9.12"
  }
 },
 "nbformat": 4,
 "nbformat_minor": 5
}
