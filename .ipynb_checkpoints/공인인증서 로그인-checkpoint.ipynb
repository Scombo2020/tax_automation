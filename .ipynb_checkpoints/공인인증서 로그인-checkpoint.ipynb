{
 "cells": [
  {
   "cell_type": "code",
   "execution_count": 1,
   "id": "429ad957-e01e-43b3-996f-0db89404cb9c",
   "metadata": {},
   "outputs": [],
   "source": [
    "from selenium import webdriver\n",
    "from selenium.webdriver.common.by import By\n",
    "from selenium.webdriver.common.keys import Keys\n",
    "from selenium.webdriver.support import expected_conditions as EC\n",
    "from selenium.webdriver.support.ui import WebDriverWait\n",
    "import time"
   ]
  },
  {
   "cell_type": "code",
   "execution_count": 2,
   "id": "2c83388a-2332-4518-951d-0528ee8636e8",
   "metadata": {},
   "outputs": [],
   "source": [
    "driver = webdriver.Chrome()"
   ]
  },
  {
   "cell_type": "code",
   "execution_count": 3,
   "id": "d70dfe4e-1d62-4c14-b078-affb43fdc4e9",
   "metadata": {},
   "outputs": [],
   "source": [
    "driver.get('https://www.hometax.go.kr/')"
   ]
  },
  {
   "cell_type": "code",
   "execution_count": 4,
   "id": "ee358604-4269-4571-9804-1fd22f5159b9",
   "metadata": {},
   "outputs": [
    {
     "name": "stdout",
     "output_type": "stream",
     "text": [
      "clicked!\n"
     ]
    }
   ],
   "source": [
    "#무지성으로 10초씩 박는게 제일 안전하긴 한데...\n",
    "time.sleep(10)\n",
    "\n",
    "try:\n",
    "    element = WebDriverWait(driver, 10).until(EC.element_to_be_clickable((By.ID, 'group88615548')))\n",
    "    element.send_keys(Keys.ENTER) \n",
    "except Exception as e:\n",
    "    print(\"error: \", e)\n",
    "\n",
    "print(\"clicked!\")"
   ]
  },
  {
   "cell_type": "code",
   "execution_count": 5,
   "id": "182f0089-d3ca-4bff-98c3-f2e84f67e346",
   "metadata": {},
   "outputs": [],
   "source": [
    "time.sleep(10)\n",
    "\n",
    "driver.switch_to.frame('txppIframe')\n",
    "element = driver.find_element(By.ID, 'anchor22')\n",
    "element.send_keys(Keys.ENTER) "
   ]
  }
 ],
 "metadata": {
  "kernelspec": {
   "display_name": "Python 3 (ipykernel)",
   "language": "python",
   "name": "python3"
  },
  "language_info": {
   "codemirror_mode": {
    "name": "ipython",
    "version": 3
   },
   "file_extension": ".py",
   "mimetype": "text/x-python",
   "name": "python",
   "nbconvert_exporter": "python",
   "pygments_lexer": "ipython3",
   "version": "3.9.12"
  }
 },
 "nbformat": 4,
 "nbformat_minor": 5
}
