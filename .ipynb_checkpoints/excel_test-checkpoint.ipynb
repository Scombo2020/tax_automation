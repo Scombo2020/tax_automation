{
 "cells": [
  {
   "cell_type": "code",
   "execution_count": 5,
   "id": "1dea7bd2-984d-43f4-9162-72e44540cc45",
   "metadata": {},
   "outputs": [],
   "source": [
    "import pandas as pd\n",
    "import os\n",
    "from openpyxl import load_workbook"
   ]
  },
  {
   "cell_type": "code",
   "execution_count": 2,
   "id": "d73ddb9b-237a-49ed-b541-013c5a9b4e61",
   "metadata": {
    "tags": []
   },
   "outputs": [
    {
     "name": "stdout",
     "output_type": "stream",
     "text": [
      "/opt/homebrew/anaconda3/Study/Tax/data/excel_example.xlsx\n"
     ]
    }
   ],
   "source": [
    "# check the existence of login info file and get the address of it. \n",
    "\n",
    "target_file = 'excel_example.xlsx'\n",
    "os.getcwd()\n",
    "os.chdir(\"data\")\n",
    "data_list = os.listdir()\n",
    "if target_file in data_list:\n",
    "    target_address = os.path.join(os.getcwd(), target_file)\n",
    "print(target_address)\n",
    "\n",
    "#f or testing\n",
    "os.chdir(\"..\")"
   ]
  },
  {
   "cell_type": "code",
   "execution_count": 3,
   "id": "27aefd57-8586-4ee6-a0ca-8e90ae976328",
   "metadata": {
    "tags": []
   },
   "outputs": [
    {
     "name": "stdout",
     "output_type": "stream",
     "text": [
      "   테스터  개인 951231-6928361 2022  휴대전화:010-1251-2346   부  거주자  대한민국  비사업자\n",
      "0  NaN NaN                                     NaN NaN  NaN   NaN   NaN\n"
     ]
    }
   ],
   "source": [
    "# excel has encoding issue... try csv.\n",
    "# read the login info file and extract data.\n",
    "df = pd.read_excel(target_address, header = 1)\n",
    "print(df)"
   ]
  },
  {
   "cell_type": "code",
   "execution_count": 14,
   "id": "cdf99459-d216-47f3-b1a1-3988f0b9b928",
   "metadata": {},
   "outputs": [
    {
     "name": "stdout",
     "output_type": "stream",
     "text": [
      "2022\n"
     ]
    }
   ],
   "source": [
    "# data_only=True로 해줘야 수식이 아닌 값으로 받아온다. \n",
    "load_wb = load_workbook(target_address, data_only=True)\n",
    "load_ws = load_wb['Sheet1']\n",
    "# WORKS FINE!\n",
    "print(load_ws['D2'].value)"
   ]
  },
  {
   "cell_type": "code",
   "execution_count": null,
   "id": "dc07ac5f-2d50-488e-841d-316948e11e78",
   "metadata": {},
   "outputs": [],
   "source": []
  }
 ],
 "metadata": {
  "kernelspec": {
   "display_name": "Python 3 (ipykernel)",
   "language": "python",
   "name": "python3"
  },
  "language_info": {
   "codemirror_mode": {
    "name": "ipython",
    "version": 3
   },
   "file_extension": ".py",
   "mimetype": "text/x-python",
   "name": "python",
   "nbconvert_exporter": "python",
   "pygments_lexer": "ipython3",
   "version": "3.9.12"
  }
 },
 "nbformat": 4,
 "nbformat_minor": 5
}
