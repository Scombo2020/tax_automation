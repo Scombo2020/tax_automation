{
 "cells": [
  {
   "cell_type": "code",
   "execution_count": 1,
   "id": "ffec9a8e-4680-4beb-b60c-930fe3949f68",
   "metadata": {},
   "outputs": [],
   "source": [
    "# import necessary libraries\n",
    "from selenium import webdriver\n",
    "from selenium.webdriver.common.by import By\n",
    "from selenium.webdriver.common.keys import Keys\n",
    "from selenium.webdriver.support import expected_conditions as EC\n",
    "from selenium.webdriver.support.ui import WebDriverWait\n",
    "import time\n",
    "import os\n",
    "import pandas as pd"
   ]
  },
  {
   "cell_type": "code",
   "execution_count": 2,
   "id": "af819059-c3a9-4709-8e57-b231b6933951",
   "metadata": {},
   "outputs": [
    {
     "name": "stdout",
     "output_type": "stream",
     "text": [
      "/opt/homebrew/anaconda3/Study/Tax/data/data.txt\n"
     ]
    }
   ],
   "source": [
    "# check the existence of login info file and get the address of it. \n",
    "\n",
    "target_file = 'data.txt'\n",
    "os.getcwd()\n",
    "os.chdir(\"data\")\n",
    "data_list = os.listdir()\n",
    "if target_file in data_list:\n",
    "    target_address = os.path.join(os.getcwd(), target_file)\n",
    "print(target_address)\n",
    "\n",
    "#f or testing\n",
    "os.chdir(\"..\")"
   ]
  },
  {
   "cell_type": "code",
   "execution_count": 3,
   "id": "f7064c0d-33b5-4744-aec8-0b06b3b8c1a9",
   "metadata": {},
   "outputs": [
    {
     "name": "stdout",
     "output_type": "stream",
     "text": [
      "{'id_val': 'wlsry96a', 'pw_val': 'shiny1751!'}\n"
     ]
    }
   ],
   "source": [
    "# read the login info file and extract data.\n",
    "login = {\n",
    "    'id_val': '',\n",
    "    'pw_val': ''\n",
    "}\n",
    "\n",
    "with open(target_address, \"r\") as f:\n",
    "    values = f.readlines()\n",
    "    login['id_val'] = values[0].strip()\n",
    "    login['pw_val'] = values[1].strip()\n",
    "\n",
    "print(login)"
   ]
  },
  {
   "cell_type": "code",
   "execution_count": 4,
   "id": "6b43334f-dca1-4c44-a6f9-85bd8409e66b",
   "metadata": {},
   "outputs": [
    {
     "name": "stdout",
     "output_type": "stream",
     "text": [
      "/opt/homebrew/anaconda3/Study/Tax/data/excel_example.csv\n"
     ]
    }
   ],
   "source": [
    "# check the existence of excel info file and get the address of it. \n",
    "\n",
    "target_file = 'excel_example.csv'\n",
    "os.getcwd()\n",
    "os.chdir(\"data\")\n",
    "data_list = os.listdir()\n",
    "if target_file in data_list:\n",
    "    target_address = os.path.join(os.getcwd(), target_file)\n",
    "print(target_address)\n",
    "\n",
    "# for testing\n",
    "os.chdir(\"..\")"
   ]
  },
  {
   "cell_type": "code",
   "execution_count": 5,
   "id": "c72b4310-189f-43e0-b90c-8f2310c63ff1",
   "metadata": {},
   "outputs": [],
   "source": [
    "# excel has encoding issue... try csv.\n",
    "# read the login info file and extract data.\n",
    "# df = pd.read_excel(target_address, encoding='utf-8', header = 1)\n",
    "# print(excel)"
   ]
  },
  {
   "cell_type": "code",
   "execution_count": 6,
   "id": "87600bc2-e98a-4fa4-83db-0ab0942d8809",
   "metadata": {},
   "outputs": [
    {
     "name": "stdout",
     "output_type": "stream",
     "text": [
      "    성명 개인단체 구분          주민등록번호  귀속연도                 연락처 장애인 여부 거주구분  거주지국  \\\n",
      "0  테스터      개인  951231-6928361  2022  휴대전화:010-1251-2346      부  거주자  대한민국   \n",
      "1  NaN     NaN                                       NaN    NaN  NaN   NaN   \n",
      "\n",
      "   기장의무  \n",
      "0  비사업자  \n",
      "1   NaN  \n"
     ]
    }
   ],
   "source": [
    "df = pd.read_csv(target_address, encoding='utf-8')\n",
    "print(df)"
   ]
  },
  {
   "cell_type": "code",
   "execution_count": 7,
   "id": "a07a8662-941f-4dc7-a522-0c16c9544686",
   "metadata": {},
   "outputs": [],
   "source": [
    "#initiate chrome driver\n",
    "driver = webdriver.Chrome()\n",
    "driver.get('https://www.hometax.go.kr/')"
   ]
  },
  {
   "cell_type": "code",
   "execution_count": 8,
   "id": "833a240e-e2e0-4b30-b748-69e2f8b6e8e4",
   "metadata": {},
   "outputs": [
    {
     "name": "stdout",
     "output_type": "stream",
     "text": [
      "clicked!\n"
     ]
    }
   ],
   "source": [
    "#click login\n",
    "time.sleep(10)\n",
    "\n",
    "try:\n",
    "    element = WebDriverWait(driver, 10).until(EC.element_to_be_clickable((By.ID, 'group88615548')))\n",
    "    element.send_keys(Keys.ENTER) \n",
    "except Exception as e:\n",
    "    print(\"error: \", e)\n",
    "    \n",
    "print(\"clicked!\")"
   ]
  },
  {
   "cell_type": "code",
   "execution_count": 9,
   "id": "843847e2-e4ca-41d3-b085-e89ae21405f8",
   "metadata": {},
   "outputs": [
    {
     "name": "stdout",
     "output_type": "stream",
     "text": [
      "clicked!\n"
     ]
    }
   ],
   "source": [
    "# move to login tab with ID & PW, login.\n",
    "time.sleep(10)\n",
    "\n",
    "driver.switch_to.frame('txppIframe')\n",
    "\n",
    "element = driver.find_element(By.ID, 'anchor15')\n",
    "element.send_keys(Keys.ENTER) \n",
    "print(\"clicked!\")\n",
    "\n",
    "input_id = driver.find_element(By.ID, 'iptUserId')\n",
    "input_id.send_keys(login['id_val'])\n",
    "input_pw = driver.find_element(By.ID, 'iptUserPw')\n",
    "input_pw.send_keys(login['pw_val'])\n",
    "element = driver.find_element(By.ID, 'anchor25')\n",
    "element.send_keys(Keys.ENTER)"
   ]
  },
  {
   "cell_type": "code",
   "execution_count": 10,
   "id": "52ea9144-fea1-459b-8736-f825f310426e",
   "metadata": {},
   "outputs": [],
   "source": [
    "# move to 신고/납부\n",
    "time.sleep(10)\n",
    "\n",
    "try:\n",
    "    element = WebDriverWait(driver, 10).until(EC.element_to_be_clickable((By.ID, 'group1314')))\n",
    "    element.send_keys(Keys.ENTER) \n",
    "except Exception as e:\n",
    "    print(\"error: \", e)"
   ]
  },
  {
   "cell_type": "code",
   "execution_count": 11,
   "id": "6278a4a7-0244-4dc2-88d4-d1a9736fb3fa",
   "metadata": {},
   "outputs": [],
   "source": [
    "# move to 종합소득세\n",
    "time.sleep(10)\n",
    "\n",
    "driver.switch_to.frame('txppIframe')\n",
    "element = driver.find_element(By.ID, 'sub_a_0405040000')\n",
    "element.send_keys(Keys.ENTER) "
   ]
  },
  {
   "cell_type": "code",
   "execution_count": 12,
   "id": "a8648678-b244-485f-b6d9-6e14ec10f8b8",
   "metadata": {},
   "outputs": [],
   "source": [
    "# move to 일반신고\n",
    "time.sleep(10)\n",
    "\n",
    "try:\n",
    "    element = WebDriverWait(driver, 10).until(EC.element_to_be_clickable((By.ID, 'grpt0201')))\n",
    "    element.send_keys(Keys.ENTER) \n",
    "except Exception as e:\n",
    "    print(\"error: \", e)"
   ]
  },
  {
   "cell_type": "code",
   "execution_count": 13,
   "id": "46c3548b-576d-4934-b45f-da300aa110fd",
   "metadata": {},
   "outputs": [],
   "source": [
    "# move to 정기신고\n",
    "try:\n",
    "    element = WebDriverWait(driver, 10).until(EC.element_to_be_clickable((By.ID, 'grpt02l0101')))\n",
    "    element.send_keys(Keys.ENTER) \n",
    "except Exception as e:\n",
    "    print(\"error: \", e)"
   ]
  }
 ],
 "metadata": {
  "kernelspec": {
   "display_name": "Python 3 (ipykernel)",
   "language": "python",
   "name": "python3"
  },
  "language_info": {
   "codemirror_mode": {
    "name": "ipython",
    "version": 3
   },
   "file_extension": ".py",
   "mimetype": "text/x-python",
   "name": "python",
   "nbconvert_exporter": "python",
   "pygments_lexer": "ipython3",
   "version": "3.9.12"
  }
 },
 "nbformat": 4,
 "nbformat_minor": 5
}
