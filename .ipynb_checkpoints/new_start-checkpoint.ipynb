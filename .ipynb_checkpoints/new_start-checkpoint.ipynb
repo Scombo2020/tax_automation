{
 "cells": [
  {
   "cell_type": "code",
   "execution_count": 1,
   "id": "ea7b2ecb-591d-410d-9bb2-a4b67a094e80",
   "metadata": {},
   "outputs": [],
   "source": [
    "from selenium import webdriver\n",
    "from selenium.webdriver.common.by import By\n",
    "from selenium.webdriver.common.keys import Keys\n",
    "from selenium.webdriver.support import expected_conditions as EC\n",
    "from selenium.webdriver.support.ui import WebDriverWait\n",
    "import time\n",
    "import os\n",
    "from openpyxl import load_workbook"
   ]
  },
  {
   "cell_type": "markdown",
   "id": "243637c0-0ce7-4afb-93be-788b2844dcde",
   "metadata": {},
   "source": [
    "## Extract login information"
   ]
  },
  {
   "cell_type": "code",
   "execution_count": 2,
   "id": "b34743de-e23c-4702-8f1e-47d5f6497796",
   "metadata": {},
   "outputs": [
    {
     "name": "stdout",
     "output_type": "stream",
     "text": [
      "/opt/homebrew/anaconda3/Study/Tax/data/data.txt\n",
      "/opt/homebrew/anaconda3/Study/Tax\n"
     ]
    }
   ],
   "source": [
    "# check the existence of login info file and get the address of it. \n",
    "\n",
    "target_file = 'data.txt'\n",
    "os.getcwd()\n",
    "os.chdir(\"data\")\n",
    "data_list = os.listdir()\n",
    "if target_file in data_list:\n",
    "    target_address = os.path.join(os.getcwd(), target_file)\n",
    "print(target_address)\n",
    "\n",
    "#for testing\n",
    "os.chdir(\"..\")\n",
    "print(os.getcwd())"
   ]
  },
  {
   "cell_type": "code",
   "execution_count": 3,
   "id": "8af5d260-2141-4423-b703-40ea6d197172",
   "metadata": {},
   "outputs": [
    {
     "name": "stdout",
     "output_type": "stream",
     "text": [
      "{'id_val': 'wlsry96a', 'pw_val': 'shiny1751!'}\n"
     ]
    }
   ],
   "source": [
    "# read the login info file and extract data.\n",
    "login = {\n",
    "    'id_val': '',\n",
    "    'pw_val': ''\n",
    "}\n",
    "\n",
    "with open(target_address, \"r\") as f:\n",
    "    values = f.readlines()\n",
    "    login['id_val'] = values[0].strip()\n",
    "    login['pw_val'] = values[1].strip()\n",
    "\n",
    "print(login)"
   ]
  },
  {
   "cell_type": "markdown",
   "id": "f9bad0b4-b555-410c-8498-a643af536dbc",
   "metadata": {},
   "source": [
    "## Extract document information"
   ]
  },
  {
   "cell_type": "code",
   "execution_count": 4,
   "id": "79e993fc-aa6c-4bdd-95de-54528215138c",
   "metadata": {},
   "outputs": [
    {
     "name": "stdout",
     "output_type": "stream",
     "text": [
      "sample.xlsx\n",
      "/opt/homebrew/anaconda3/Study/Tax/data\n",
      "['excel_example.xlsx', 'excel_example.csv', 'sample.xlsx', 'note.txt', '.ipynb_checkpoints', 'data.txt']\n",
      "found\n",
      "/opt/homebrew/anaconda3/Study/Tax/data/sample.xlsx\n"
     ]
    }
   ],
   "source": [
    "# check the existence of login info file and get the address of it. \n",
    "\n",
    "target_file = 'sample.xlsx'\n",
    "print(target_file)\n",
    "os.getcwd()\n",
    "os.chdir(\"data\")\n",
    "print(os.getcwd())\n",
    "data_list = os.listdir()\n",
    "print(data_list)\n",
    "if target_file in data_list:\n",
    "    print(\"found\")\n",
    "    target_address = os.path.join(os.getcwd(), target_file)\n",
    "print(target_address)\n",
    "\n",
    "#f or testing\n",
    "os.chdir(\"..\")"
   ]
  },
  {
   "cell_type": "code",
   "execution_count": 5,
   "id": "e9d5d7bf-10fe-4abb-906e-ce95737d37b4",
   "metadata": {},
   "outputs": [],
   "source": [
    "# data_only=True로 해줘야 수식이 아닌 값으로 받아온다. \n",
    "load_wb = load_workbook(target_address, data_only=True)\n",
    "load_ws = load_wb['Sheet1']\n",
    "\n",
    "doc_info = {\n",
    "    '납세자 구분' : load_ws['B2'].value,\n",
    "    '주민등록번호' : '',\n",
    "    '사업자등록번호' : '',\n",
    "    '전화번호' : load_ws['D2'].value,\n",
    "    '증여자와의 관계' : load_ws['E2'].value\n",
    "}\n",
    "\n",
    "if doc_info['납세자 구분'] == '개인':\n",
    "    doc_info['주민등록번호'] = load_ws['C2'].value\n",
    "elif doc_info['납세자 구분'] == '사업자':\n",
    "    doc_info['사업자등록번호'] = load_ws['C2'].value"
   ]
  },
  {
   "cell_type": "markdown",
   "id": "94f4c36c-02d7-4e96-a99c-6d7dd821d78d",
   "metadata": {},
   "source": [
    "## Initiate the navigation."
   ]
  },
  {
   "cell_type": "code",
   "execution_count": 6,
   "id": "ca0edb81-be27-48b8-84ba-f9045597a111",
   "metadata": {},
   "outputs": [],
   "source": [
    "#initiate chrome driver\n",
    "driver = webdriver.Chrome()\n",
    "driver.get('https://www.hometax.go.kr/')"
   ]
  },
  {
   "cell_type": "code",
   "execution_count": 7,
   "id": "6a22cb6b-4e29-406c-a876-85575d6d0bd5",
   "metadata": {},
   "outputs": [
    {
     "name": "stdout",
     "output_type": "stream",
     "text": [
      "clicked!\n"
     ]
    }
   ],
   "source": [
    "# click 로그인\n",
    "time.sleep(10)\n",
    "\n",
    "try:\n",
    "    element = WebDriverWait(driver, 10).until(EC.element_to_be_clickable((By.ID, 'group1544')))\n",
    "    element.send_keys(Keys.ENTER) \n",
    "except Exception as e:\n",
    "    print(\"error: \", e)\n",
    "    \n",
    "print(\"clicked!\")"
   ]
  },
  {
   "cell_type": "code",
   "execution_count": 8,
   "id": "d5cd4c21-ab61-4b0f-8d00-cdc62c16df38",
   "metadata": {},
   "outputs": [
    {
     "name": "stdout",
     "output_type": "stream",
     "text": [
      "clicked!\n"
     ]
    }
   ],
   "source": [
    "# move to login tab with ID & PW, login.\n",
    "time.sleep(10)\n",
    "\n",
    "driver.switch_to.frame('txppIframe')\n",
    "\n",
    "element = driver.find_element(By.ID, 'anchor15')\n",
    "element.send_keys(Keys.ENTER) \n",
    "print(\"clicked!\")\n",
    "\n",
    "input_id = driver.find_element(By.ID, 'iptUserId')\n",
    "input_id.send_keys(login['id_val'])\n",
    "input_pw = driver.find_element(By.ID, 'iptUserPw')\n",
    "input_pw.send_keys(login['pw_val'])\n",
    "element = driver.find_element(By.ID, 'anchor25')\n",
    "element.send_keys(Keys.ENTER)"
   ]
  },
  {
   "cell_type": "code",
   "execution_count": 9,
   "id": "d9e09638-0518-4f4d-b65f-2824a9e82aca",
   "metadata": {},
   "outputs": [],
   "source": [
    "# move to 세금신고\n",
    "time.sleep(10)\n",
    "\n",
    "try:\n",
    "    element = WebDriverWait(driver, 10).until(EC.element_to_be_clickable((By.ID, 'hdGroup919')))\n",
    "    element.send_keys(Keys.ENTER) \n",
    "except Exception as e:\n",
    "    print(\"error: \", e)"
   ]
  },
  {
   "cell_type": "code",
   "execution_count": 10,
   "id": "6d333341-fd25-4373-bd2b-3d72e2d1d644",
   "metadata": {},
   "outputs": [],
   "source": [
    "time.sleep(10)\n",
    "\n",
    "driver.switch_to.frame('txppIframe')\n",
    "\n",
    "# open all (it contains all here)\n",
    "try:\n",
    "    element = WebDriverWait(driver, 10).until(EC.element_to_be_clickable((By.ID, 'textbox1012')))\n",
    "    element.send_keys(Keys.ENTER) \n",
    "except Exception as e:\n",
    "    print(\"error: \", e)\n",
    "    \n",
    "# move to 증여세 -> 일반증여신고 -> 정기신고\n",
    "try:\n",
    "    element = WebDriverWait(driver, 10).until(EC.element_to_be_clickable((By.ID, 'sub_a_4107010100')))\n",
    "    element.send_keys(Keys.ENTER) \n",
    "except Exception as e:\n",
    "    print(\"error: \", e)"
   ]
  },
  {
   "cell_type": "markdown",
   "id": "1d15d3b5-421c-4bf1-84e5-d5dc34e88f99",
   "metadata": {},
   "source": [
    "## Fill out the form"
   ]
  },
  {
   "cell_type": "code",
   "execution_count": 11,
   "id": "3ce52f78-02c4-4a77-a895-d77b1b0fadc2",
   "metadata": {},
   "outputs": [],
   "source": [
    "# 납세자 구분 & 상응하는 번호\n",
    "time.sleep(10)\n",
    "\n",
    "if doc_info[\"납세자 구분\"] == \"개인\":\n",
    "    \n",
    "    # 납세자 구분\n",
    "    # radio must be click(), noto send_keys(Keys.ENTER)\n",
    "    try:\n",
    "        element = WebDriverWait(driver, 10).until(EC.element_to_be_clickable((By.ID, 'edtTxprClsfCd2_input_0')))\n",
    "        #element.send_keys(Keys.ENTER) \n",
    "        element.click()\n",
    "    except Exception as e:\n",
    "        print(\"error: \", e)\n",
    "        \n",
    "    # 주민등록번호 입력\n",
    "    parsed_num = doc_info[\"주민등록번호\"].split(\"-\")\n",
    "    \n",
    "    try:\n",
    "        element = WebDriverWait(driver, 10).until(EC.element_to_be_clickable((By.ID, 'edtDnrTinNmFnA')))\n",
    "        element.send_keys(parsed_num[0]) \n",
    "    except Exception as e:\n",
    "        print(\"error: \", e)\n",
    "        \n",
    "    try:\n",
    "        element = WebDriverWait(driver, 10).until(EC.element_to_be_clickable((By.ID, 'edtDnrTinNmFnB')))\n",
    "        element.send_keys(parsed_num[1]) \n",
    "    except Exception as e:\n",
    "        print(\"error: \", e) \n",
    "    \n",
    "    # 주민등록번호 조회\n",
    "    try:\n",
    "        element = WebDriverWait(driver, 10).until(EC.element_to_be_clickable((By.ID, 'trigger108')))\n",
    "        element.send_keys(Keys.ENTER) \n",
    "    except Exception as e:\n",
    "        print(\"error: \", e) \n",
    "        \n",
    "\n",
    "elif doc_info[\"납세자 구분\"] == \"사업자\":\n",
    "    \n",
    "    #납세자 구분\n",
    "    try:\n",
    "        element = WebDriverWait(driver, 10).until(EC.element_to_be_clickable((By.ID, 'edtTxprClsfCd2_input_1')))\n",
    "        #element.send_keys(Keys.ENTER) \n",
    "        element.click()\n",
    "    except Exception as e:\n",
    "        print(\"error: \", e)\n",
    "        \n",
    "    # 사업자등록번호 입력\n",
    "    parsed_num = doc_info[\"사업자등록번호\"].split(\"-\")\n",
    "    \n",
    "    try:\n",
    "        element = WebDriverWait(driver, 10).until(EC.element_to_be_clickable((By.ID, 'edtDnrBsno1')))\n",
    "        element.send_keys(parsed_num[0]) \n",
    "    except Exception as e:\n",
    "        print(\"error: \", e)\n",
    "        \n",
    "    try:\n",
    "        element = WebDriverWait(driver, 10).until(EC.element_to_be_clickable((By.ID, 'edtDnrBsno2')))\n",
    "        element.send_keys(parsed_num[1]) \n",
    "    except Exception as e:\n",
    "        print(\"error: \", e) \n",
    "        \n",
    "    try:\n",
    "        element = WebDriverWait(driver, 10).until(EC.element_to_be_clickable((By.ID, 'edtDnrBsno3')))\n",
    "        element.send_keys(parsed_num[2]) \n",
    "    except Exception as e:\n",
    "        print(\"error: \", e) \n",
    "    \n",
    "    # 사업자등록번호 조회\n",
    "    try:\n",
    "        element = WebDriverWait(driver, 10).until(EC.element_to_be_clickable((By.ID, 'trigger107')))\n",
    "        element.send_keys(Keys.ENTER) \n",
    "    except Exception as e:\n",
    "        print(\"error: \", e) \n",
    "        \n",
    "    "
   ]
  },
  {
   "cell_type": "code",
   "execution_count": 12,
   "id": "ec1fbdd5-04ce-44bc-a7f6-5b71e78bb2f8",
   "metadata": {},
   "outputs": [],
   "source": [
    "# 수증자 주민등록번호 조회\n",
    "\n",
    "time.sleep(5)\n",
    "\n",
    "try:\n",
    "    element = WebDriverWait(driver, 10).until(EC.element_to_be_clickable((By.ID, 'trigger106')))\n",
    "    element.send_keys(Keys.ENTER) \n",
    "except Exception as e:\n",
    "    print(\"error: \", e) "
   ]
  },
  {
   "cell_type": "code",
   "execution_count": 13,
   "id": "ea9a222f-cace-4cdf-8917-2e4069995767",
   "metadata": {},
   "outputs": [],
   "source": [
    "# 수증자 전화번호 입력\n",
    "parsed_num = doc_info[\"전화번호\"].split(\"-\")\n",
    "    \n",
    "try:\n",
    "    element = WebDriverWait(driver, 10).until(EC.element_to_be_clickable((By.ID, 'edtHmTelNo1')))\n",
    "    element.send_keys(parsed_num[0]) \n",
    "except Exception as e:\n",
    "    print(\"error: \", e)\n",
    "        \n",
    "try:\n",
    "    element = WebDriverWait(driver, 10).until(EC.element_to_be_clickable((By.ID, 'edtHmTelNo2')))\n",
    "    element.send_keys(parsed_num[1]) \n",
    "except Exception as e:\n",
    "    print(\"error: \", e) \n",
    "        \n",
    "try:\n",
    "    element = WebDriverWait(driver, 10).until(EC.element_to_be_clickable((By.ID, 'edtHmTelNo3')))\n",
    "    element.send_keys(parsed_num[2]) \n",
    "except Exception as e:\n",
    "    print(\"error: \", e) "
   ]
  },
  {
   "cell_type": "code",
   "execution_count": null,
   "id": "e5595f2b-a692-41a8-8e33-e7e50dac86e6",
   "metadata": {},
   "outputs": [],
   "source": [
    "#test"
   ]
  }
 ],
 "metadata": {
  "kernelspec": {
   "display_name": "Python 3 (ipykernel)",
   "language": "python",
   "name": "python3"
  },
  "language_info": {
   "codemirror_mode": {
    "name": "ipython",
    "version": 3
   },
   "file_extension": ".py",
   "mimetype": "text/x-python",
   "name": "python",
   "nbconvert_exporter": "python",
   "pygments_lexer": "ipython3",
   "version": "3.9.12"
  }
 },
 "nbformat": 4,
 "nbformat_minor": 5
}
