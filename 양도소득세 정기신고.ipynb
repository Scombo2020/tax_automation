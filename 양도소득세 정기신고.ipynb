{
 "cells": [
  {
   "cell_type": "code",
   "execution_count": 1,
   "id": "7b3327d6-6491-411e-a0b6-854e54a8b1d7",
   "metadata": {},
   "outputs": [],
   "source": [
    "from selenium import webdriver\n",
    "from selenium.webdriver.common.by import By\n",
    "from selenium.webdriver.common.keys import Keys\n",
    "from selenium.webdriver.support import expected_conditions as EC\n",
    "from selenium.webdriver.support.ui import WebDriverWait\n",
    "import time"
   ]
  },
  {
   "cell_type": "code",
   "execution_count": 2,
   "id": "69d62d88-a885-4ccb-803f-6aaad7d817e6",
   "metadata": {},
   "outputs": [],
   "source": [
    "driver = webdriver.Chrome()"
   ]
  },
  {
   "cell_type": "code",
   "execution_count": 3,
   "id": "090cabc3-e847-4fe0-a99b-07bb4dbfe04f",
   "metadata": {},
   "outputs": [],
   "source": [
    "driver.get('https://www.hometax.go.kr/')"
   ]
  },
  {
   "cell_type": "code",
   "execution_count": 4,
   "id": "a9c66acf-1423-4da2-8754-62895cb456c6",
   "metadata": {},
   "outputs": [],
   "source": []
  },
  {
   "cell_type": "code",
   "execution_count": 5,
   "id": "1f4297c2-8c3b-4fc2-bae7-087c62820b05",
   "metadata": {},
   "outputs": [
    {
     "name": "stdout",
     "output_type": "stream",
     "text": [
      "error:  Message: \n",
      "Stacktrace:\n",
      "0   chromedriver                        0x000000010330e65c chromedriver + 4318812\n",
      "1   chromedriver                        0x0000000103306d00 chromedriver + 4287744\n",
      "2   chromedriver                        0x0000000102f387ec chromedriver + 296940\n",
      "3   chromedriver                        0x0000000102f76048 chromedriver + 548936\n",
      "4   chromedriver                        0x0000000102faed28 chromedriver + 781608\n",
      "5   chromedriver                        0x0000000102f6a178 chromedriver + 500088\n",
      "6   chromedriver                        0x0000000102f6afc0 chromedriver + 503744\n",
      "7   chromedriver                        0x00000001032cec40 chromedriver + 4058176\n",
      "8   chromedriver                        0x00000001032d3160 chromedriver + 4075872\n",
      "9   chromedriver                        0x0000000103296e68 chromedriver + 3829352\n",
      "10  chromedriver                        0x00000001032d3c4c chromedriver + 4078668\n",
      "11  chromedriver                        0x00000001032abf08 chromedriver + 3915528\n",
      "12  chromedriver                        0x00000001032f0140 chromedriver + 4194624\n",
      "13  chromedriver                        0x00000001032f02c4 chromedriver + 4195012\n",
      "14  chromedriver                        0x00000001033004d0 chromedriver + 4261072\n",
      "15  libsystem_pthread.dylib             0x00000001970a7fa8 _pthread_start + 148\n",
      "16  libsystem_pthread.dylib             0x00000001970a2da0 thread_start + 8\n",
      "\n",
      "clicked!\n"
     ]
    }
   ],
   "source": [
    "# click 로그인\n",
    "time.sleep(10)\n",
    "\n",
    "try:\n",
    "    element = WebDriverWait(driver, 10).until(EC.element_to_be_clickable((By.ID, 'group88615548')))\n",
    "    element.send_keys(Keys.ENTER) \n",
    "except Exception as e:\n",
    "    print(\"error: \", e)\n",
    "    \n",
    "print(\"clicked!\")"
   ]
  },
  {
   "cell_type": "code",
   "execution_count": 6,
   "id": "69aa220e-7a69-42eb-bdcc-e825b512f57f",
   "metadata": {},
   "outputs": [
    {
     "ename": "NoSuchElementException",
     "evalue": "Message: no such element: Unable to locate element: {\"method\":\"css selector\",\"selector\":\"[id=\"anchor15\"]\"}\n  (Session info: chrome=116.0.5845.140)\nStacktrace:\n0   chromedriver                        0x000000010330e65c chromedriver + 4318812\n1   chromedriver                        0x0000000103306d00 chromedriver + 4287744\n2   chromedriver                        0x0000000102f387ec chromedriver + 296940\n3   chromedriver                        0x0000000102f76048 chromedriver + 548936\n4   chromedriver                        0x0000000102faed28 chromedriver + 781608\n5   chromedriver                        0x0000000102f6a178 chromedriver + 500088\n6   chromedriver                        0x0000000102f6afc0 chromedriver + 503744\n7   chromedriver                        0x00000001032cec40 chromedriver + 4058176\n8   chromedriver                        0x00000001032d3160 chromedriver + 4075872\n9   chromedriver                        0x0000000103296e68 chromedriver + 3829352\n10  chromedriver                        0x00000001032d3c4c chromedriver + 4078668\n11  chromedriver                        0x00000001032abf08 chromedriver + 3915528\n12  chromedriver                        0x00000001032f0140 chromedriver + 4194624\n13  chromedriver                        0x00000001032f02c4 chromedriver + 4195012\n14  chromedriver                        0x00000001033004d0 chromedriver + 4261072\n15  libsystem_pthread.dylib             0x00000001970a7fa8 _pthread_start + 148\n16  libsystem_pthread.dylib             0x00000001970a2da0 thread_start + 8\n",
     "output_type": "error",
     "traceback": [
      "\u001b[0;31m---------------------------------------------------------------------------\u001b[0m",
      "\u001b[0;31mNoSuchElementException\u001b[0m                    Traceback (most recent call last)",
      "Input \u001b[0;32mIn [6]\u001b[0m, in \u001b[0;36m<cell line: 6>\u001b[0;34m()\u001b[0m\n\u001b[1;32m      2\u001b[0m time\u001b[38;5;241m.\u001b[39msleep(\u001b[38;5;241m10\u001b[39m)\n\u001b[1;32m      4\u001b[0m driver\u001b[38;5;241m.\u001b[39mswitch_to\u001b[38;5;241m.\u001b[39mframe(\u001b[38;5;124m'\u001b[39m\u001b[38;5;124mtxppIframe\u001b[39m\u001b[38;5;124m'\u001b[39m)\n\u001b[0;32m----> 6\u001b[0m element \u001b[38;5;241m=\u001b[39m \u001b[43mdriver\u001b[49m\u001b[38;5;241;43m.\u001b[39;49m\u001b[43mfind_element\u001b[49m\u001b[43m(\u001b[49m\u001b[43mBy\u001b[49m\u001b[38;5;241;43m.\u001b[39;49m\u001b[43mID\u001b[49m\u001b[43m,\u001b[49m\u001b[43m \u001b[49m\u001b[38;5;124;43m'\u001b[39;49m\u001b[38;5;124;43manchor15\u001b[39;49m\u001b[38;5;124;43m'\u001b[39;49m\u001b[43m)\u001b[49m\n\u001b[1;32m      7\u001b[0m element\u001b[38;5;241m.\u001b[39msend_keys(Keys\u001b[38;5;241m.\u001b[39mENTER) \n\u001b[1;32m      8\u001b[0m \u001b[38;5;28mprint\u001b[39m(\u001b[38;5;124m\"\u001b[39m\u001b[38;5;124mclicked!\u001b[39m\u001b[38;5;124m\"\u001b[39m)\n",
      "File \u001b[0;32m/opt/homebrew/anaconda3/lib/python3.9/site-packages/selenium/webdriver/remote/webdriver.py:830\u001b[0m, in \u001b[0;36mWebDriver.find_element\u001b[0;34m(self, by, value)\u001b[0m\n\u001b[1;32m    827\u001b[0m     by \u001b[38;5;241m=\u001b[39m By\u001b[38;5;241m.\u001b[39mCSS_SELECTOR\n\u001b[1;32m    828\u001b[0m     value \u001b[38;5;241m=\u001b[39m \u001b[38;5;124mf\u001b[39m\u001b[38;5;124m'\u001b[39m\u001b[38;5;124m[name=\u001b[39m\u001b[38;5;124m\"\u001b[39m\u001b[38;5;132;01m{\u001b[39;00mvalue\u001b[38;5;132;01m}\u001b[39;00m\u001b[38;5;124m\"\u001b[39m\u001b[38;5;124m]\u001b[39m\u001b[38;5;124m'\u001b[39m\n\u001b[0;32m--> 830\u001b[0m \u001b[38;5;28;01mreturn\u001b[39;00m \u001b[38;5;28;43mself\u001b[39;49m\u001b[38;5;241;43m.\u001b[39;49m\u001b[43mexecute\u001b[49m\u001b[43m(\u001b[49m\u001b[43mCommand\u001b[49m\u001b[38;5;241;43m.\u001b[39;49m\u001b[43mFIND_ELEMENT\u001b[49m\u001b[43m,\u001b[49m\u001b[43m \u001b[49m\u001b[43m{\u001b[49m\u001b[38;5;124;43m\"\u001b[39;49m\u001b[38;5;124;43musing\u001b[39;49m\u001b[38;5;124;43m\"\u001b[39;49m\u001b[43m:\u001b[49m\u001b[43m \u001b[49m\u001b[43mby\u001b[49m\u001b[43m,\u001b[49m\u001b[43m \u001b[49m\u001b[38;5;124;43m\"\u001b[39;49m\u001b[38;5;124;43mvalue\u001b[39;49m\u001b[38;5;124;43m\"\u001b[39;49m\u001b[43m:\u001b[49m\u001b[43m \u001b[49m\u001b[43mvalue\u001b[49m\u001b[43m}\u001b[49m\u001b[43m)\u001b[49m[\u001b[38;5;124m\"\u001b[39m\u001b[38;5;124mvalue\u001b[39m\u001b[38;5;124m\"\u001b[39m]\n",
      "File \u001b[0;32m/opt/homebrew/anaconda3/lib/python3.9/site-packages/selenium/webdriver/remote/webdriver.py:440\u001b[0m, in \u001b[0;36mWebDriver.execute\u001b[0;34m(self, driver_command, params)\u001b[0m\n\u001b[1;32m    438\u001b[0m response \u001b[38;5;241m=\u001b[39m \u001b[38;5;28mself\u001b[39m\u001b[38;5;241m.\u001b[39mcommand_executor\u001b[38;5;241m.\u001b[39mexecute(driver_command, params)\n\u001b[1;32m    439\u001b[0m \u001b[38;5;28;01mif\u001b[39;00m response:\n\u001b[0;32m--> 440\u001b[0m     \u001b[38;5;28;43mself\u001b[39;49m\u001b[38;5;241;43m.\u001b[39;49m\u001b[43merror_handler\u001b[49m\u001b[38;5;241;43m.\u001b[39;49m\u001b[43mcheck_response\u001b[49m\u001b[43m(\u001b[49m\u001b[43mresponse\u001b[49m\u001b[43m)\u001b[49m\n\u001b[1;32m    441\u001b[0m     response[\u001b[38;5;124m\"\u001b[39m\u001b[38;5;124mvalue\u001b[39m\u001b[38;5;124m\"\u001b[39m] \u001b[38;5;241m=\u001b[39m \u001b[38;5;28mself\u001b[39m\u001b[38;5;241m.\u001b[39m_unwrap_value(response\u001b[38;5;241m.\u001b[39mget(\u001b[38;5;124m\"\u001b[39m\u001b[38;5;124mvalue\u001b[39m\u001b[38;5;124m\"\u001b[39m, \u001b[38;5;28;01mNone\u001b[39;00m))\n\u001b[1;32m    442\u001b[0m     \u001b[38;5;28;01mreturn\u001b[39;00m response\n",
      "File \u001b[0;32m/opt/homebrew/anaconda3/lib/python3.9/site-packages/selenium/webdriver/remote/errorhandler.py:245\u001b[0m, in \u001b[0;36mErrorHandler.check_response\u001b[0;34m(self, response)\u001b[0m\n\u001b[1;32m    243\u001b[0m         alert_text \u001b[38;5;241m=\u001b[39m value[\u001b[38;5;124m\"\u001b[39m\u001b[38;5;124malert\u001b[39m\u001b[38;5;124m\"\u001b[39m]\u001b[38;5;241m.\u001b[39mget(\u001b[38;5;124m\"\u001b[39m\u001b[38;5;124mtext\u001b[39m\u001b[38;5;124m\"\u001b[39m)\n\u001b[1;32m    244\u001b[0m     \u001b[38;5;28;01mraise\u001b[39;00m exception_class(message, screen, stacktrace, alert_text)  \u001b[38;5;66;03m# type: ignore[call-arg]  # mypy is not smart enough here\u001b[39;00m\n\u001b[0;32m--> 245\u001b[0m \u001b[38;5;28;01mraise\u001b[39;00m exception_class(message, screen, stacktrace)\n",
      "\u001b[0;31mNoSuchElementException\u001b[0m: Message: no such element: Unable to locate element: {\"method\":\"css selector\",\"selector\":\"[id=\"anchor15\"]\"}\n  (Session info: chrome=116.0.5845.140)\nStacktrace:\n0   chromedriver                        0x000000010330e65c chromedriver + 4318812\n1   chromedriver                        0x0000000103306d00 chromedriver + 4287744\n2   chromedriver                        0x0000000102f387ec chromedriver + 296940\n3   chromedriver                        0x0000000102f76048 chromedriver + 548936\n4   chromedriver                        0x0000000102faed28 chromedriver + 781608\n5   chromedriver                        0x0000000102f6a178 chromedriver + 500088\n6   chromedriver                        0x0000000102f6afc0 chromedriver + 503744\n7   chromedriver                        0x00000001032cec40 chromedriver + 4058176\n8   chromedriver                        0x00000001032d3160 chromedriver + 4075872\n9   chromedriver                        0x0000000103296e68 chromedriver + 3829352\n10  chromedriver                        0x00000001032d3c4c chromedriver + 4078668\n11  chromedriver                        0x00000001032abf08 chromedriver + 3915528\n12  chromedriver                        0x00000001032f0140 chromedriver + 4194624\n13  chromedriver                        0x00000001032f02c4 chromedriver + 4195012\n14  chromedriver                        0x00000001033004d0 chromedriver + 4261072\n15  libsystem_pthread.dylib             0x00000001970a7fa8 _pthread_start + 148\n16  libsystem_pthread.dylib             0x00000001970a2da0 thread_start + 8\n"
     ]
    }
   ],
   "source": [
    "# move to login tab with ID & PW, login.\n",
    "time.sleep(10)\n",
    "\n",
    "driver.switch_to.frame('txppIframe')\n",
    "\n",
    "element = driver.find_element(By.ID, 'anchor15')\n",
    "element.send_keys(Keys.ENTER) \n",
    "print(\"clicked!\")\n",
    "\n",
    "input_id = driver.find_element(By.ID, 'iptUserId')\n",
    "input_id.send_keys(ID)\n",
    "input_pw = driver.find_element(By.ID, 'iptUserPw')\n",
    "input_pw.send_keys(PW)\n",
    "element = driver.find_element(By.ID, 'anchor25')\n",
    "element.send_keys(Keys.ENTER)"
   ]
  },
  {
   "cell_type": "code",
   "execution_count": null,
   "id": "950fbb58-1ab5-476b-b02f-4c25b3f1cff2",
   "metadata": {},
   "outputs": [],
   "source": [
    "# move to 신고/납부\n",
    "time.sleep(10)\n",
    "\n",
    "try:\n",
    "    element = WebDriverWait(driver, 10).until(EC.element_to_be_clickable((By.ID, 'group1314')))\n",
    "    element.send_keys(Keys.ENTER) \n",
    "except Exception as e:\n",
    "    print(\"error: \", e)"
   ]
  },
  {
   "cell_type": "code",
   "execution_count": null,
   "id": "83b675bf-255a-4819-8146-4562239ea259",
   "metadata": {},
   "outputs": [],
   "source": [
    "# move to 양도 소득세\n",
    "time.sleep(10)\n",
    "\n",
    "driver.switch_to.frame('txppIframe')\n",
    "element = driver.find_element(By.ID, 'sub_a_0405050000')\n",
    "element.send_keys(Keys.ENTER) "
   ]
  },
  {
   "cell_type": "code",
   "execution_count": null,
   "id": "c304e962-ca03-4b92-ac2a-9623e114acaf",
   "metadata": {},
   "outputs": [],
   "source": [
    "# move to 확정신고 -> 정기신고\n",
    "# 현재 신고기간 아님, 더 이상 진행 불가.\n",
    "time.sleep(10)\n",
    "\n",
    "try:\n",
    "    element = WebDriverWait(driver, 10).until(EC.element_to_be_clickable((By.ID, 'group14460')))\n",
    "    element.send_keys(Keys.ENTER) \n",
    "except Exception as e:\n",
    "    print(\"error: \", e)\n",
    "    \n",
    "try:\n",
    "    element = WebDriverWait(driver, 10).until(EC.element_to_be_clickable((By.ID, 'group255370')))\n",
    "    element.send_keys(Keys.ENTER) \n",
    "except Exception as e:\n",
    "    print(\"error: \", e)"
   ]
  }
 ],
 "metadata": {
  "kernelspec": {
   "display_name": "Python 3 (ipykernel)",
   "language": "python",
   "name": "python3"
  },
  "language_info": {
   "codemirror_mode": {
    "name": "ipython",
    "version": 3
   },
   "file_extension": ".py",
   "mimetype": "text/x-python",
   "name": "python",
   "nbconvert_exporter": "python",
   "pygments_lexer": "ipython3",
   "version": "3.9.12"
  }
 },
 "nbformat": 4,
 "nbformat_minor": 5
}
