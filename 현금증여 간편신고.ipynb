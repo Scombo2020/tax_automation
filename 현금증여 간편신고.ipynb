{
 "cells": [
  {
   "cell_type": "code",
   "execution_count": 1,
   "id": "309be767-f4f5-4490-bd96-22c5d7d89cb7",
   "metadata": {},
   "outputs": [],
   "source": [
    "from selenium import webdriver\n",
    "from selenium.webdriver.common.by import By\n",
    "from selenium.webdriver.common.keys import Keys\n",
    "from selenium.webdriver.support import expected_conditions as EC\n",
    "from selenium.webdriver.support.ui import WebDriverWait\n",
    "import time"
   ]
  },
  {
   "cell_type": "code",
   "execution_count": 2,
   "id": "ef863979-223e-487f-9cb2-8402e5c0cac2",
   "metadata": {},
   "outputs": [],
   "source": [
    "driver = webdriver.Chrome()"
   ]
  },
  {
   "cell_type": "code",
   "execution_count": 3,
   "id": "928f10b6-a9b1-43bb-b0a5-b15580a5bfc0",
   "metadata": {},
   "outputs": [],
   "source": [
    "driver.get('https://www.hometax.go.kr/')"
   ]
  },
  {
   "cell_type": "code",
   "execution_count": 4,
   "id": "763a4468-be2f-4046-8740-a39eddd2f45a",
   "metadata": {},
   "outputs": [],
   "source": []
  },
  {
   "cell_type": "code",
   "execution_count": 5,
   "id": "60354302-6205-4a1c-bfbe-ca989919bf49",
   "metadata": {},
   "outputs": [
    {
     "name": "stdout",
     "output_type": "stream",
     "text": [
      "clicked!\n"
     ]
    }
   ],
   "source": [
    "# click 로그인\n",
    "time.sleep(10)\n",
    "\n",
    "try:\n",
    "    element = WebDriverWait(driver, 10).until(EC.element_to_be_clickable((By.ID, 'group88615548')))\n",
    "    element.send_keys(Keys.ENTER) \n",
    "except Exception as e:\n",
    "    print(\"error: \", e)\n",
    "    \n",
    "print(\"clicked!\")"
   ]
  },
  {
   "cell_type": "code",
   "execution_count": 6,
   "id": "93069d29-3888-42f3-84be-3c37b8a2a2e2",
   "metadata": {},
   "outputs": [
    {
     "name": "stdout",
     "output_type": "stream",
     "text": [
      "clicked!\n"
     ]
    }
   ],
   "source": [
    "# move to login tab with ID & PW, login.\n",
    "time.sleep(10)\n",
    "\n",
    "driver.switch_to.frame('txppIframe')\n",
    "\n",
    "element = driver.find_element(By.ID, 'anchor15')\n",
    "element.send_keys(Keys.ENTER) \n",
    "print(\"clicked!\")\n",
    "\n",
    "input_id = driver.find_element(By.ID, 'iptUserId')\n",
    "input_id.send_keys(ID)\n",
    "input_pw = driver.find_element(By.ID, 'iptUserPw')\n",
    "input_pw.send_keys(PW)\n",
    "element = driver.find_element(By.ID, 'anchor25')\n",
    "element.send_keys(Keys.ENTER)"
   ]
  },
  {
   "cell_type": "code",
   "execution_count": 7,
   "id": "6e03ae19-514e-48e2-ade3-ecf4f54c2e93",
   "metadata": {},
   "outputs": [],
   "source": [
    "# move to 신고/납부\n",
    "time.sleep(10)\n",
    "\n",
    "try:\n",
    "    element = WebDriverWait(driver, 10).until(EC.element_to_be_clickable((By.ID, 'group1314')))\n",
    "    element.send_keys(Keys.ENTER) \n",
    "except Exception as e:\n",
    "    print(\"error: \", e)"
   ]
  },
  {
   "cell_type": "code",
   "execution_count": 8,
   "id": "a31d9c49-da77-470f-bb8d-d2ac0e862dff",
   "metadata": {},
   "outputs": [],
   "source": [
    "# move to 증여세\n",
    "time.sleep(10)\n",
    "\n",
    "driver.switch_to.frame('txppIframe')\n",
    "element = driver.find_element(By.ID, 'sub_a_0405060000')\n",
    "element.send_keys(Keys.ENTER) "
   ]
  },
  {
   "cell_type": "code",
   "execution_count": 9,
   "id": "4b830739-d3a9-4ca5-af89-ea81f7795fad",
   "metadata": {},
   "outputs": [],
   "source": [
    "time.sleep(10)\n",
    "\n",
    "#현금증여 간편신고\n",
    "try:\n",
    "    element = WebDriverWait(driver, 10).until(EC.element_to_be_clickable((By.ID, 'group255410')))\n",
    "    element.send_keys(Keys.ENTER) \n",
    "except Exception as e:\n",
    "    print(\"error: \", e)"
   ]
  }
 ],
 "metadata": {
  "kernelspec": {
   "display_name": "Python 3 (ipykernel)",
   "language": "python",
   "name": "python3"
  },
  "language_info": {
   "codemirror_mode": {
    "name": "ipython",
    "version": 3
   },
   "file_extension": ".py",
   "mimetype": "text/x-python",
   "name": "python",
   "nbconvert_exporter": "python",
   "pygments_lexer": "ipython3",
   "version": "3.9.12"
  }
 },
 "nbformat": 4,
 "nbformat_minor": 5
}
